{
 "cells": [
  {
   "cell_type": "markdown",
   "id": "0527faf3-7a9e-44af-bf48-cf5a95cb77f9",
   "metadata": {},
   "source": [
    "## Question 1"
   ]
  },
  {
   "cell_type": "code",
   "execution_count": 28,
   "id": "d9231bef-2dc6-42d3-866f-2d2a1b8cdda3",
   "metadata": {},
   "outputs": [],
   "source": [
    "# Explain the key features of Python that makes it a popular choice for programming."
   ]
  },
  {
   "cell_type": "markdown",
   "id": "9bf7a8b3-24aa-4246-bb82-9765163a0364",
   "metadata": {},
   "source": [
    "## Answer 1"
   ]
  },
  {
   "cell_type": "code",
   "execution_count": 29,
   "id": "d492cb1a-a085-4a23-8293-916081510598",
   "metadata": {},
   "outputs": [],
   "source": [
    "# Following are the key features :\n",
    "#       i.  presence of huge community\n",
    "#      ii.  general purpose language\n",
    "#     iii.  easy to understand\n",
    "#      iv.  high number of libraries (>137000)\n",
    "#       v.  can connect to other platforms/databases (i.e. cross platform feature)\n",
    "#      vi.  good performance with less computation time\n",
    "#     vii.  high versatility; used in web development,ML,AI etc\n",
    "#    viii.  widely used in the data industry."
   ]
  },
  {
   "cell_type": "code",
   "execution_count": null,
   "id": "8e68b80c-fe81-4df3-a3c8-cbf4ab330bb3",
   "metadata": {},
   "outputs": [],
   "source": []
  },
  {
   "cell_type": "markdown",
   "id": "96ee66d3-96fb-49e7-aa70-e27c14fc3ec0",
   "metadata": {},
   "source": [
    "## Question 2"
   ]
  },
  {
   "cell_type": "code",
   "execution_count": 8,
   "id": "66a10609-4f43-4c06-8438-deac2f6ad87e",
   "metadata": {},
   "outputs": [],
   "source": [
    "# Describe the role of predefined keywords in Python and provide examples of how they are used in a program."
   ]
  },
  {
   "cell_type": "markdown",
   "id": "6bfd525e-26c6-45ef-8199-63c6968b809c",
   "metadata": {},
   "source": [
    "## Answer 2"
   ]
  },
  {
   "cell_type": "code",
   "execution_count": 73,
   "id": "ad9411db-7641-4123-a9d0-8a4ae14967cb",
   "metadata": {},
   "outputs": [],
   "source": [
    "# Keywords are some predefined and reserved words in Python that holds a special meaning and have specific purpose in Python programming.\n",
    "# In total there are 35 keywords. \n",
    "# All the keywords in Python are written in lowercase except True and False."
   ]
  },
  {
   "cell_type": "code",
   "execution_count": 71,
   "id": "52949188-2a88-422f-b6f3-66bd6963350c",
   "metadata": {},
   "outputs": [
    {
     "name": "stdout",
     "output_type": "stream",
     "text": [
      "\n",
      "Here is a list of the Python keywords.  Enter any keyword to get more help.\n",
      "\n",
      "False               class               from                or\n",
      "None                continue            global              pass\n",
      "True                def                 if                  raise\n",
      "and                 del                 import              return\n",
      "as                  elif                in                  try\n",
      "assert              else                is                  while\n",
      "async               except              lambda              with\n",
      "await               finally             nonlocal            yield\n",
      "break               for                 not                 \n",
      "\n"
     ]
    }
   ],
   "source": [
    "# Following are the keywords:\n",
    "help (\"keywords\")"
   ]
  },
  {
   "cell_type": "code",
   "execution_count": 14,
   "id": "ac5fffa5-32f7-40ad-8cd7-f43891f68278",
   "metadata": {
    "tags": []
   },
   "outputs": [],
   "source": [
    "# Examples of using keywords are as follows:"
   ]
  },
  {
   "cell_type": "code",
   "execution_count": 19,
   "id": "7f346f8c-1014-424f-8b04-acdfc29a4513",
   "metadata": {},
   "outputs": [
    {
     "data": {
      "text/plain": [
       "False"
      ]
     },
     "execution_count": 19,
     "metadata": {},
     "output_type": "execute_result"
    }
   ],
   "source": [
    "True and False"
   ]
  },
  {
   "cell_type": "code",
   "execution_count": 26,
   "id": "a823862c-efd3-4354-893a-e6faa4395173",
   "metadata": {},
   "outputs": [
    {
     "data": {
      "text/plain": [
       "True"
      ]
     },
     "execution_count": 26,
     "metadata": {},
     "output_type": "execute_result"
    }
   ],
   "source": [
    "True or False"
   ]
  },
  {
   "cell_type": "code",
   "execution_count": 23,
   "id": "f254a88e-225a-4213-9d6c-96928e3f45cd",
   "metadata": {},
   "outputs": [
    {
     "name": "stdout",
     "output_type": "stream",
     "text": [
      "Coding is interesting\n"
     ]
    }
   ],
   "source": [
    "x = True\n",
    "if x:\n",
    "    print (\"Coding is interesting\")"
   ]
  },
  {
   "cell_type": "code",
   "execution_count": 24,
   "id": "689c2674-8ed4-49e9-b863-2ab4ff7286d9",
   "metadata": {},
   "outputs": [
    {
     "name": "stdout",
     "output_type": "stream",
     "text": [
      "Coding is hard\n"
     ]
    }
   ],
   "source": [
    "x = False\n",
    "if x:\n",
    "    print (\"Coding is interesting\")\n",
    "else:\n",
    "    print (\"Coding is hard\")"
   ]
  },
  {
   "cell_type": "code",
   "execution_count": 25,
   "id": "665766b2-20d8-4978-9ff6-e86af18d99f7",
   "metadata": {},
   "outputs": [
    {
     "name": "stdout",
     "output_type": "stream",
     "text": [
      "1\n",
      "2\n",
      "3\n",
      "4\n",
      "5\n"
     ]
    }
   ],
   "source": [
    "a = 5\n",
    "x = 1\n",
    "while x <= a:\n",
    "    print (x)\n",
    "    x = x+1"
   ]
  },
  {
   "cell_type": "code",
   "execution_count": 27,
   "id": "ae0443f6-c738-4cec-bb14-6cbaae79ba62",
   "metadata": {},
   "outputs": [],
   "source": [
    "# Above examples depict few of the used cases of keywords"
   ]
  },
  {
   "cell_type": "code",
   "execution_count": null,
   "id": "db06d5ad-5cfb-42d4-9173-08272791b553",
   "metadata": {},
   "outputs": [],
   "source": []
  },
  {
   "cell_type": "markdown",
   "id": "e2640795-a5ea-40fe-8718-5b1aa01f0fb6",
   "metadata": {},
   "source": [
    "## Question 3"
   ]
  },
  {
   "cell_type": "code",
   "execution_count": 28,
   "id": "66cdce24-4dcd-4aea-b605-9dc65cc74af2",
   "metadata": {},
   "outputs": [],
   "source": [
    "# Compare and contrast mutable and immutable objects in Python with examples."
   ]
  },
  {
   "cell_type": "markdown",
   "id": "de3185f6-7587-45c2-9e52-a76f0d029837",
   "metadata": {},
   "source": [
    "## Answer 3"
   ]
  },
  {
   "cell_type": "code",
   "execution_count": 29,
   "id": "3c5d49eb-0a47-4da5-8ceb-01c4d743829a",
   "metadata": {},
   "outputs": [],
   "source": [
    "# Mutability refers to the phenomenon of changing or editing elements of data container or data structure.\n",
    "# Objects whose state or value can be changed after they are created are called as \"mutable objects\".\n",
    "# \"List\" is a type of mutable object, i.e. item assignment is possible in list.\n",
    "\n",
    "# Whereas,\n",
    "\n",
    "# Immutability refers to the phenomenon of inability to change or edit elements of data container or data structure.\n",
    "# Objects whose state or value cannot be changed after they are created are called as \"immutable objects\".\n",
    "# \"String\" is a type of immutable object, i.e. item assignment is not possible in string."
   ]
  },
  {
   "cell_type": "code",
   "execution_count": 30,
   "id": "8206d789-bc79-46e6-8efb-2fddc86141cb",
   "metadata": {},
   "outputs": [],
   "source": [
    "# Example of mutability:\n",
    "\n",
    "list_ex = [ 1,2.3,4+5j,\"Virat\" ]"
   ]
  },
  {
   "cell_type": "code",
   "execution_count": 31,
   "id": "7e354f2c-6258-453e-8f99-82d597ebb867",
   "metadata": {},
   "outputs": [
    {
     "data": {
      "text/plain": [
       "list"
      ]
     },
     "execution_count": 31,
     "metadata": {},
     "output_type": "execute_result"
    }
   ],
   "source": [
    "type (list_ex)"
   ]
  },
  {
   "cell_type": "code",
   "execution_count": 35,
   "id": "6a3b4de2-46c0-401f-97f2-d7083b28cf0b",
   "metadata": {},
   "outputs": [],
   "source": [
    "list_ex [-1] = \"Ajay\""
   ]
  },
  {
   "cell_type": "code",
   "execution_count": 36,
   "id": "ef31682d-ebe8-4173-a69d-8a0671ee5ff7",
   "metadata": {},
   "outputs": [
    {
     "data": {
      "text/plain": [
       "[1, 2.3, (4+5j), 'Ajay']"
      ]
     },
     "execution_count": 36,
     "metadata": {},
     "output_type": "execute_result"
    }
   ],
   "source": [
    "list_ex"
   ]
  },
  {
   "cell_type": "code",
   "execution_count": 31,
   "id": "6b2e3ac0-a46f-40be-9ae8-042c10630fae",
   "metadata": {},
   "outputs": [],
   "source": [
    "# Example of immutability:\n",
    "\n",
    "name = \"Dhoni\""
   ]
  },
  {
   "cell_type": "code",
   "execution_count": 41,
   "id": "68f4d3b0-bb92-4d5b-a7ba-ff0ebf44b4db",
   "metadata": {},
   "outputs": [
    {
     "data": {
      "text/plain": [
       "str"
      ]
     },
     "execution_count": 41,
     "metadata": {},
     "output_type": "execute_result"
    }
   ],
   "source": [
    "type (name)"
   ]
  },
  {
   "cell_type": "code",
   "execution_count": 42,
   "id": "410ff41c-866b-4090-a8ee-cd0801f736d2",
   "metadata": {},
   "outputs": [
    {
     "ename": "TypeError",
     "evalue": "'str' object does not support item assignment",
     "output_type": "error",
     "traceback": [
      "\u001b[0;31m---------------------------------------------------------------------------\u001b[0m",
      "\u001b[0;31mTypeError\u001b[0m                                 Traceback (most recent call last)",
      "Cell \u001b[0;32mIn[42], line 1\u001b[0m\n\u001b[0;32m----> 1\u001b[0m \u001b[43mname\u001b[49m\u001b[43m \u001b[49m\u001b[43m[\u001b[49m\u001b[38;5;241;43m4\u001b[39;49m\u001b[43m]\u001b[49m \u001b[38;5;241m=\u001b[39m \u001b[38;5;124m\"\u001b[39m\u001b[38;5;124mv\u001b[39m\u001b[38;5;124m\"\u001b[39m\n",
      "\u001b[0;31mTypeError\u001b[0m: 'str' object does not support item assignment"
     ]
    }
   ],
   "source": [
    "name [4] = \"v\""
   ]
  },
  {
   "cell_type": "code",
   "execution_count": null,
   "id": "14d72c03-dbc8-425c-8d35-93edce0cb34d",
   "metadata": {},
   "outputs": [],
   "source": []
  },
  {
   "cell_type": "markdown",
   "id": "291e6f9a-c7ca-41ee-b5a3-262f1379a1ff",
   "metadata": {},
   "source": [
    "## Question 4"
   ]
  },
  {
   "cell_type": "code",
   "execution_count": null,
   "id": "d30ae700-4760-451b-b6a1-abe43d9ba8f3",
   "metadata": {
    "tags": []
   },
   "outputs": [],
   "source": [
    "# Discuss the different types of operators in Python and provide examples of how they are used."
   ]
  },
  {
   "cell_type": "markdown",
   "id": "45ecbc04-7d93-43e1-8fb4-ed301fb7dfba",
   "metadata": {},
   "source": [
    "## Answer 4"
   ]
  },
  {
   "cell_type": "code",
   "execution_count": 44,
   "id": "0ea58d1d-39d0-4d5c-9d71-9b505b51b7f1",
   "metadata": {},
   "outputs": [],
   "source": [
    "# Operators in general are used to perform operations on operands.\n",
    "# Following are the types of operators used in Python:\n",
    "#   i. Arithmetic operators\n",
    "#  ii. Comparison operators\n",
    "# iii. Logical operators\n",
    "#  iv. Bitwise operators\n",
    "#   v. Assignment operators\n",
    "#  vi. Membership operators\n",
    "# vii. Identity operators"
   ]
  },
  {
   "cell_type": "code",
   "execution_count": 77,
   "id": "c544e276-f8d0-42b0-a7df-b5d404509319",
   "metadata": {},
   "outputs": [
    {
     "name": "stdout",
     "output_type": "stream",
     "text": [
      "50\n",
      "10\n",
      "600\n",
      "1.5\n",
      "1\n",
      "10\n",
      "900\n",
      "400\n"
     ]
    }
   ],
   "source": [
    "# Arithmetic operators: These are used to perform basic mathematical operations.\n",
    "\n",
    "# Example:\n",
    "\n",
    "a = 30\n",
    "b = 20\n",
    "\n",
    "print (a+b)\n",
    "print (a-b)\n",
    "print (a*b)\n",
    "print (a/b)\n",
    "\n",
    "print (a//b) #Floor command\n",
    "\n",
    "print (a%b)  #Modulus command\n",
    "\n",
    "print (a**2) #Exponentiation command\n",
    "print (b**2)"
   ]
  },
  {
   "cell_type": "code",
   "execution_count": 75,
   "id": "8b1f5d59-f24d-42ce-b250-dca648c13336",
   "metadata": {},
   "outputs": [
    {
     "name": "stdout",
     "output_type": "stream",
     "text": [
      "True\n",
      "False\n",
      "False\n",
      "True\n",
      "True\n",
      "False\n"
     ]
    }
   ],
   "source": [
    "# Comparison operators: These are used to compare values.\n",
    "#                       It returns true or false according to the mentioned condition.\n",
    "\n",
    "# Example:\n",
    "\n",
    "a = 30\n",
    "b = 20\n",
    "\n",
    "print (a>b)\n",
    "print (a<b)\n",
    "print (a==b)\n",
    "print (a!=b)\n",
    "print (a>=b)\n",
    "print (a<=b)"
   ]
  },
  {
   "cell_type": "code",
   "execution_count": 55,
   "id": "b0c2c11c-dc8f-461b-86ce-54e1bf833fe2",
   "metadata": {},
   "outputs": [
    {
     "name": "stdout",
     "output_type": "stream",
     "text": [
      "False\n",
      "True\n",
      "True\n"
     ]
    }
   ],
   "source": [
    "# Logical operators: These are used to perform \"AND\", \"OR\" and \"NOT\" logical operations.\n",
    "\n",
    "# AND --> True if both the operands are true.\n",
    "# OR --> True if either of the operands is true.\n",
    "# NOT --> True if the operand is false and vice versa.\n",
    "\n",
    "# Example:\n",
    "\n",
    "a = True\n",
    "b = False\n",
    "\n",
    "print (a and b)\n",
    "print (a or b)\n",
    "print (not b)"
   ]
  },
  {
   "cell_type": "code",
   "execution_count": 76,
   "id": "a483b5e6-ee0f-49bc-8273-4d4dc1f33a31",
   "metadata": {},
   "outputs": [
    {
     "name": "stdout",
     "output_type": "stream",
     "text": [
      "0b1010\n",
      "0b100\n",
      "0\n",
      "0b0\n",
      "14\n",
      "0b1110\n",
      "-11\n",
      "-5\n",
      "14\n",
      "0b1110\n",
      "40\n",
      "0b101000\n",
      "2\n",
      "0b10\n"
     ]
    }
   ],
   "source": [
    "# Bitwise operators: These act on bits and perform bit-by-bit operations i.e these are used to operate on binary numbers.\n",
    "# Following are its types:\n",
    "#    i. Bitwise AND (&)\n",
    "#   ii. Bitwise OR (|)\n",
    "#  iii. Bitwise NOT (~) ; also called \"Negation\"\n",
    "#   iv. Bitwise XOR (^)\n",
    "#    v. Bitwise left shift (<<)\n",
    "#   vi. Bitwise right shift (>>)\n",
    "\n",
    "# Example:\n",
    "\n",
    "a = 10\n",
    "b = 4\n",
    "\n",
    "print (bin (10))\n",
    "print (bin (4))\n",
    "\n",
    "print (a&b)\n",
    "print (bin (a&b))\n",
    "\n",
    "print (a|b)\n",
    "print (bin (a|b))\n",
    "\n",
    "print (~a)\n",
    "print (~b)\n",
    "\n",
    "print (a^b)\n",
    "print (bin (a^b))\n",
    "\n",
    "print (a<<2)\n",
    "print (bin (a<<2))\n",
    "\n",
    "print (a>>2)\n",
    "print (bin (a>>2))"
   ]
  },
  {
   "cell_type": "code",
   "execution_count": 78,
   "id": "7e6da175-c5db-4cc4-9fea-1d4a4e3fe18c",
   "metadata": {},
   "outputs": [
    {
     "name": "stdout",
     "output_type": "stream",
     "text": [
      "10\n",
      "20\n",
      "10\n",
      "100\n",
      "10.0\n"
     ]
    }
   ],
   "source": [
    "# Assignment operators: These are used to assign values to the variables.\n",
    "\n",
    "# Example:\n",
    "\n",
    "a = 10\n",
    "b = a\n",
    "\n",
    "print (b)\n",
    "\n",
    "b += a\n",
    "print (b)\n",
    "\n",
    "b -= a\n",
    "print (b)\n",
    "\n",
    "b *= a\n",
    "print (b)\n",
    "\n",
    "b /= a\n",
    "print (b)"
   ]
  },
  {
   "cell_type": "code",
   "execution_count": 64,
   "id": "e36b3626-6e09-42f6-ba40-9379b970d072",
   "metadata": {},
   "outputs": [],
   "source": [
    "# Membership operators: These are used to check if some member/part is there in the data container or not.\n",
    "#                       It gives result in true or false."
   ]
  },
  {
   "cell_type": "code",
   "execution_count": 68,
   "id": "8e241de4-2ed5-4984-95c3-afcfd878679c",
   "metadata": {},
   "outputs": [
    {
     "name": "stdout",
     "output_type": "stream",
     "text": [
      "True\n",
      "True\n",
      "False\n",
      "False\n"
     ]
    }
   ],
   "source": [
    "# Example 1:\n",
    "\n",
    "a = \"Chocolate\"\n",
    "print ( \"l\" in a )\n",
    "print ( \"late\" in a )\n",
    "print ( \"z\" in a )\n",
    "print ( \"kbfsvb\" in a )"
   ]
  },
  {
   "cell_type": "code",
   "execution_count": 69,
   "id": "c0da2310-3a3f-4358-865e-f6890d50fc28",
   "metadata": {},
   "outputs": [
    {
     "name": "stdout",
     "output_type": "stream",
     "text": [
      "True\n",
      "False\n"
     ]
    }
   ],
   "source": [
    "# Example 2:\n",
    "\n",
    "list_new = [\"Vanilla\",\"Almond\",\"Strawberry\"]\n",
    "print ( \"Almond\" in list_new )\n",
    "print ( \"Chocolate\" in list_new )"
   ]
  },
  {
   "cell_type": "code",
   "execution_count": 80,
   "id": "830e8649-eafe-4e53-8543-e28b1db27f97",
   "metadata": {},
   "outputs": [
    {
     "name": "stdout",
     "output_type": "stream",
     "text": [
      "True\n",
      "False\n"
     ]
    }
   ],
   "source": [
    "# Identity operators: These compares the location of two objects/variables in the memory.\n",
    "#                     These are used to check if two values are located on the same part of the memory or not.\n",
    "#                     It gives result in true or false.\n",
    "\n",
    "# Example:\n",
    "\n",
    "a = 10\n",
    "b = a\n",
    "\n",
    "print ( b is a )\n",
    "print ( b is not a )"
   ]
  },
  {
   "cell_type": "code",
   "execution_count": null,
   "id": "85c66dd2-8f51-44b9-b362-ebd068545c9b",
   "metadata": {},
   "outputs": [],
   "source": []
  },
  {
   "cell_type": "markdown",
   "id": "a4dc6196-6c0f-4cc8-925b-c5c92b7933e4",
   "metadata": {},
   "source": [
    "## Question 5"
   ]
  },
  {
   "cell_type": "code",
   "execution_count": 81,
   "id": "eaf99c1d-c109-485d-a365-f58796f5bca5",
   "metadata": {},
   "outputs": [],
   "source": [
    "# Explain the concept of type casting in Python with examples."
   ]
  },
  {
   "cell_type": "markdown",
   "id": "373019cc-28d5-489e-91e8-296bc7d2843e",
   "metadata": {},
   "source": [
    "## Answer 5"
   ]
  },
  {
   "cell_type": "code",
   "execution_count": 4,
   "id": "7e0cb9da-c3a3-4adb-9291-2073306f1ccc",
   "metadata": {},
   "outputs": [
    {
     "name": "stdout",
     "output_type": "stream",
     "text": [
      "<class 'int'>\n",
      "<class 'str'>\n",
      "<class 'int'>\n",
      "100\n"
     ]
    }
   ],
   "source": [
    "# Typecasting refers to the process of changing the datatype of an onject.\n",
    "# It is of two types - implicit and explicit typecasting.\n",
    "# It comes in handy in situations where there is mismatch between the datatypes because of which computation using operators becomes difficult.\n",
    "\n",
    "# Example :\n",
    "\n",
    "a = 50\n",
    "b = \"50\"\n",
    "\n",
    "print (type(a))\n",
    "print (type(b))\n",
    "\n",
    "int (b)\n",
    "print (type (int (b)))\n",
    "\n",
    "print (a + int(b))"
   ]
  },
  {
   "cell_type": "code",
   "execution_count": null,
   "id": "5c889dcf-7a0f-41ed-bb78-98597d610c33",
   "metadata": {},
   "outputs": [],
   "source": []
  },
  {
   "cell_type": "markdown",
   "id": "81da0327-6949-42eb-b47d-6fb4fd9363b0",
   "metadata": {},
   "source": [
    "## Question 6"
   ]
  },
  {
   "cell_type": "code",
   "execution_count": 5,
   "id": "6eb89004-d411-4119-a7b3-f90eaaa43d96",
   "metadata": {},
   "outputs": [],
   "source": [
    "# How do conditional statements work in Python? Illustrate with examples."
   ]
  },
  {
   "cell_type": "markdown",
   "id": "2726435f-0187-4cc6-8f38-2f7615073533",
   "metadata": {},
   "source": [
    "## Answer 6"
   ]
  },
  {
   "cell_type": "code",
   "execution_count": 6,
   "id": "b2c8754d-1314-40a5-8c9a-15bdac5765ec",
   "metadata": {},
   "outputs": [],
   "source": [
    "# Conditional statements is a part of flow control that helps to code decisions based on  our predefined conditions.\n",
    "# Following are the types of conditional statements :\n",
    "#      i) if \n",
    "#     ii) if-else\n",
    "#    iii) if-elif-else\n",
    "#     iv) nested-if-else"
   ]
  },
  {
   "cell_type": "code",
   "execution_count": 7,
   "id": "39913e15-f021-45eb-9a26-aa44bea2acf7",
   "metadata": {},
   "outputs": [
    {
     "name": "stdout",
     "output_type": "stream",
     "text": [
      "I will play cricket\n"
     ]
    }
   ],
   "source": [
    "# if statements: The if block of code gets executed if the mentioned condition holds true; otherwise no execution occurs.\n",
    "\n",
    "# Example: \n",
    "\n",
    "weather = \"sunny\"\n",
    "if weather == \"sunny\":\n",
    "    print (\"I will play cricket\")"
   ]
  },
  {
   "cell_type": "code",
   "execution_count": 8,
   "id": "d84742fa-a629-44b3-a55d-aa1fc14c3a1c",
   "metadata": {},
   "outputs": [
    {
     "name": "stdout",
     "output_type": "stream",
     "text": [
      "Improvement Needed\n"
     ]
    }
   ],
   "source": [
    "# if-else statements: The else block of code gets executed if the mentioned condition does not hold true.\n",
    "#                     However, if the mentioned condition is true then the if block of code will get executed.\n",
    "\n",
    "# Example : \n",
    "\n",
    "Grade = 8.3\n",
    "Co_curr = False\n",
    "\n",
    "if ((Grade > 8) & (Co_curr == True)):\n",
    "    print (\"Wonder Boy\")\n",
    "else:\n",
    "    print (\"Improvement Needed\")"
   ]
  },
  {
   "cell_type": "code",
   "execution_count": 13,
   "id": "c0d663ab-57a6-4210-912b-5235fd0ff96a",
   "metadata": {},
   "outputs": [
    {
     "name": "stdout",
     "output_type": "stream",
     "text": [
      "Grade is C\n"
     ]
    }
   ],
   "source": [
    "# if-elif-else statements: The if statements are executed from the top down.\n",
    "#                          As soon as one of the conditions controlling the if is true, statement associated with that if is executed and rest of the ladder is bypassed.\n",
    "#                          If none of the conditions is true, then final else statement will be executed.\n",
    "\n",
    "# Example :\n",
    "\n",
    "Grade = 7.4\n",
    "\n",
    "if Grade >= 9:\n",
    "    print (\"Grade is A\")\n",
    "elif 9> Grade >=8:\n",
    "    print (\"Grade is B\")\n",
    "elif 8> Grade >=7:\n",
    "    print (\"Grade is C\")\n",
    "elif 7> Grade >=6:\n",
    "    print (\"Grade is D\")\n",
    "else:\n",
    "    print (\"The student failed to proceed to next class\")"
   ]
  },
  {
   "cell_type": "code",
   "execution_count": 14,
   "id": "d5df7ae0-b706-4f8f-80cc-dde20766b16d",
   "metadata": {},
   "outputs": [
    {
     "name": "stdout",
     "output_type": "stream",
     "text": [
      "The letter is C\n"
     ]
    }
   ],
   "source": [
    "# nested-if-else statements: It refers to the pattern of if-else statment inside another if-else statement.\n",
    "\n",
    "# Example:\n",
    "\n",
    "letter = \"C\"\n",
    "\n",
    "if letter == \"A\":\n",
    "    print ( \"The letter is A\" )\n",
    "else:\n",
    "    if letter == \"B\":\n",
    "        print ( \"The letter is B\" )\n",
    "    else:\n",
    "        if letter == \"C\":\n",
    "            print ( \"The letter is C\" )\n",
    "        else:\n",
    "            print (\"The letter is not A,B or C\")"
   ]
  },
  {
   "cell_type": "code",
   "execution_count": null,
   "id": "d41c7b56-275a-4e15-afd4-2ecd87048ec9",
   "metadata": {},
   "outputs": [],
   "source": []
  },
  {
   "cell_type": "markdown",
   "id": "33869f27-3d56-4d41-841b-b377e2ac57cf",
   "metadata": {},
   "source": [
    "## Question 7"
   ]
  },
  {
   "cell_type": "code",
   "execution_count": 15,
   "id": "eccee6e9-a447-43ea-9ee9-9a1b9d017c94",
   "metadata": {},
   "outputs": [],
   "source": [
    "# Describe the different types of loops in Python and their use cases with examples."
   ]
  },
  {
   "cell_type": "markdown",
   "id": "12b653ae-1e00-4412-a275-2d4ab3e4b995",
   "metadata": {},
   "source": [
    "## Answer 7"
   ]
  },
  {
   "cell_type": "code",
   "execution_count": 16,
   "id": "1ad1e87c-81cf-46d1-8268-2aae6757ce5e",
   "metadata": {},
   "outputs": [],
   "source": [
    "# Loop statements is also a part of flow control.\n",
    "# It allows us to execute a block of code repeatedly.\n",
    "# It is of two types: 'WHILE' statement and 'FOR' statement."
   ]
  },
  {
   "cell_type": "code",
   "execution_count": 18,
   "id": "f43a4b68-345c-49e3-90d1-71595946dfb5",
   "metadata": {},
   "outputs": [
    {
     "name": "stdout",
     "output_type": "stream",
     "text": [
      "1\n",
      "3\n",
      "5\n",
      "7\n",
      "9\n"
     ]
    }
   ],
   "source": [
    "# while statements : It repeatedly executes a block of code untill a condition is met.\n",
    "\n",
    "# Example: \n",
    "\n",
    "m = 10\n",
    "x = 1\n",
    "\n",
    "while x < m:\n",
    "    print (x)\n",
    "    x = x + 2"
   ]
  },
  {
   "cell_type": "code",
   "execution_count": null,
   "id": "965abf41-a2a1-45ee-af41-c43f9c302e5f",
   "metadata": {},
   "outputs": [],
   "source": [
    "# while-else statemet: 'else block' gets executed when the while statement is run successfully in the absence of 'break' command.\n",
    "#                      It also gets executed in the presence of 'continue' command."
   ]
  },
  {
   "cell_type": "code",
   "execution_count": 19,
   "id": "9cf10442-a679-48f1-97b8-285c537263ec",
   "metadata": {},
   "outputs": [
    {
     "name": "stdout",
     "output_type": "stream",
     "text": [
      "2\n",
      "4.6\n",
      "(8+10j)\n",
      "Choco\n"
     ]
    }
   ],
   "source": [
    "# for statements : It iterates over a sequence of elements in the data structure like list and string.\n",
    "\n",
    "# Example: \n",
    "\n",
    "list_for = [2,4.6,8+10j,\"Choco\"]\n",
    "for i in list_for:\n",
    "    print (i)"
   ]
  },
  {
   "cell_type": "code",
   "execution_count": 20,
   "id": "1817e295-d6cc-4f50-9544-9d60d1badfa2",
   "metadata": {},
   "outputs": [],
   "source": [
    "# for-else statement: 'else block' gets executed when the for statement is run successfully in the absence of 'break' command.\n",
    "#                      It also gets executed in the presence of 'continue' command."
   ]
  },
  {
   "cell_type": "code",
   "execution_count": 27,
   "id": "ab839cc0-d456-4e69-972b-ff685ef66963",
   "metadata": {},
   "outputs": [],
   "source": [
    "# Pattern formation (USED CASE): example of right triangle using both while and for statement."
   ]
  },
  {
   "cell_type": "code",
   "execution_count": 24,
   "id": "8a3bf2e0-7fca-4e0a-9db0-a13cb66cbcb5",
   "metadata": {},
   "outputs": [
    {
     "name": "stdout",
     "output_type": "stream",
     "text": [
      "*  \n",
      "*  *  \n",
      "*  *  *  \n",
      "*  *  *  *  \n"
     ]
    }
   ],
   "source": [
    "row = 1\n",
    "while row <= 4:\n",
    "    col = 1\n",
    "    while col <= row:\n",
    "        print(\"*\", end = '  ')\n",
    "        col = col + 1\n",
    "    print ()\n",
    "    row = row + 1"
   ]
  },
  {
   "cell_type": "code",
   "execution_count": 26,
   "id": "1540eb99-8e9d-4661-8e09-35dc8cbc98d8",
   "metadata": {},
   "outputs": [
    {
     "name": "stdout",
     "output_type": "stream",
     "text": [
      "*  \n",
      "*  *  \n",
      "*  *  *  \n",
      "*  *  *  *  \n"
     ]
    }
   ],
   "source": [
    "for i in range (0,4):\n",
    "    for j in range (i+1):\n",
    "        print (\"*\", end = '  ')\n",
    "    print ()"
   ]
  },
  {
   "cell_type": "code",
   "execution_count": null,
   "id": "44260184-a0ce-49ff-bd21-acd1f475cd2f",
   "metadata": {},
   "outputs": [],
   "source": []
  }
 ],
 "metadata": {
  "kernelspec": {
   "display_name": "Python 3 (ipykernel)",
   "language": "python",
   "name": "python3"
  },
  "language_info": {
   "codemirror_mode": {
    "name": "ipython",
    "version": 3
   },
   "file_extension": ".py",
   "mimetype": "text/x-python",
   "name": "python",
   "nbconvert_exporter": "python",
   "pygments_lexer": "ipython3",
   "version": "3.10.8"
  }
 },
 "nbformat": 4,
 "nbformat_minor": 5
}
